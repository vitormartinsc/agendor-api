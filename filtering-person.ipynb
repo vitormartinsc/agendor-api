{
 "cells": [
  {
   "cell_type": "code",
   "execution_count": 1,
   "id": "b9e077cd-5a29-4bd0-8978-cada99c58e63",
   "metadata": {},
   "outputs": [],
   "source": [
    "import requests\n",
    "import pandas"
   ]
  },
  {
   "cell_type": "code",
   "execution_count": 2,
   "id": "8d02a581-e82b-47dd-8873-db047e67bdfc",
   "metadata": {},
   "outputs": [],
   "source": [
    "API_KEY = \"881078-ec5446d8-7fbd-4fac-806d-8a4d81eece36\"\n",
    "URL = \"https://api.agendor.com.br/v3/deals\"\n",
    "\n",
    "\n",
    "headers = {\n",
    "    \"Authorization\": f\"Token {API_KEY}\",\n",
    "    \"Content-Type\": \"application/json\"\n",
    "}"
   ]
  },
  {
   "cell_type": "code",
   "execution_count": 9,
   "id": "aab3cf67-563f-47a6-9a97-3476b52f9a08",
   "metadata": {},
   "outputs": [],
   "source": [
    "req = requests.get('https://api.agendor.com.br/v3/deal_stages', headers=headers)"
   ]
  },
  {
   "cell_type": "code",
   "execution_count": 5,
   "id": "e2ebce98-397e-45ed-bb85-4c9bc4e7046d",
   "metadata": {},
   "outputs": [],
   "source": [
    "# Função para realizar o scraping\n",
    "def fetch_data():\n",
    "    next_url = URL\n",
    "    params = {\"per_page\": 100}\n",
    "    all_json_deals_data = []\n",
    "    wait_time = 10  # Tempo inicial de espera em segundos\n",
    "\n",
    "    while next_url:\n",
    "        try:\n",
    "            response = requests.get(next_url, headers=headers, params=params)\n",
    "\n",
    "            if response.status_code == 200:\n",
    "                json_deal_data = response.json().get('data', [])\n",
    "                all_json_deals_data.extend(json_deal_data)\n",
    "                links = response.json().get('links', {})\n",
    "                next_url = links.get('next', False)\n",
    "                wait_time = 10  # Reseta o tempo de espera se der certo\n",
    "\n",
    "            elif response.status_code == 429:\n",
    "                print(f\"Erro 429: Muitas requisições. Aguardando {wait_time} segundos antes de tentar novamente...\")\n",
    "                time.sleep(wait_time)\n",
    "                wait_time *= 2  # Dobra o tempo de espera a cada falha\n",
    "\n",
    "            else:\n",
    "                print(f\"Erro {response.status_code}: {response.text}\")\n",
    "                break  # Sai do loop se for outro erro\n",
    "\n",
    "        except requests.exceptions.JSONDecodeError:\n",
    "            print(\"Erro ao decodificar JSON. Resposta vazia ou malformada.\")\n",
    "            break\n",
    "        except requests.exceptions.RequestException as e:\n",
    "            print(f\"Erro na requisição: {e}\")\n",
    "            break\n",
    "\n",
    "    return all_json_deals_data"
   ]
  },
  {
   "cell_type": "code",
   "execution_count": 7,
   "id": "3e5916d1-9475-4a89-8b19-4666c5dacf28",
   "metadata": {},
   "outputs": [],
   "source": [
    "data = fetch_data()"
   ]
  },
  {
   "cell_type": "code",
   "execution_count": 68,
   "id": "164f86b0-4c52-4b27-a10f-f5c5866aa3fb",
   "metadata": {},
   "outputs": [],
   "source": [
    "ids = []\n",
    "for deal in data:\n",
    "    if deal['dealStage']['name'] == '1.3 DIAGNÓSTICO' and deal['dealStatus']['name'] == 'Em andamento':\n",
    "        ids.append(deal['id']) "
   ]
  },
  {
   "cell_type": "code",
   "execution_count": 72,
   "id": "fdc816df-12b0-492b-aec1-f7e4e353582e",
   "metadata": {},
   "outputs": [
    {
     "data": {
      "text/plain": [
       "{'id': 27095653,\n",
       " 'parentDealId': None,\n",
       " 'accountId': 698720,\n",
       " 'organization': None,\n",
       " 'person': None,\n",
       " 'author': {'accountId': 698720, 'id': 860639, 'name': 'Guilherme Hely'},\n",
       " 'dealStage': {'id': 3182353,\n",
       "  'name': '1.1 LEADS',\n",
       "  'sequence': 1,\n",
       "  'funnel': {'id': 772312, 'name': '1 POS'}},\n",
       " 'dealStatus': {'id': 1, 'name': 'Em andamento'},\n",
       " 'lossReason': None,\n",
       " 'owner': {'accountId': 698720, 'id': 860979, 'name': 'Camila Neves'},\n",
       " 'title': '227 - Edivan',\n",
       " 'description': None,\n",
       " 'startTime': '2024-10-24T00:00:00.000Z',\n",
       " 'endTime': None,\n",
       " 'wonAt': None,\n",
       " 'lostAt': None,\n",
       " 'createdAt': '2024-10-24T20:46:27.000Z',\n",
       " 'updatedAt': '2024-11-08T14:42:10.000Z',\n",
       " 'ranking': 0,\n",
       " 'value': 0.0,\n",
       " 'products': [],\n",
       " 'allowedUsers': [{'accountId': 698720,\n",
       "   'id': 860639,\n",
       "   'name': 'Guilherme Hely'},\n",
       "  {'accountId': 698720, 'id': 860979, 'name': 'Camila Neves'},\n",
       "  {'accountId': 698720, 'id': 860980, 'name': 'Gustavo Porto'},\n",
       "  {'accountId': 698720, 'id': 863021, 'name': 'Juliane Sales'},\n",
       "  {'accountId': 698720, 'id': 864760, 'name': 'Sandro Leao'},\n",
       "  {'accountId': 698720, 'id': 864772, 'name': 'Rhay Amorim'},\n",
       "  {'accountId': 698720, 'id': 867560, 'name': 'João Marcelo'},\n",
       "  {'accountId': 698720, 'id': 867562, 'name': 'Leandro Miranda'},\n",
       "  {'accountId': 698720, 'id': 881078, 'name': 'Vitor Carvalho'},\n",
       "  {'accountId': 698720, 'id': 885372, 'name': 'Ferramentas'}],\n",
       " '_email': '227-698720n27095653@to.agendor.com.br',\n",
       " '_webUrl': 'https://web.agendor.com.br/sistema/negocios/historico.php?id=27095653'}"
      ]
     },
     "execution_count": 72,
     "metadata": {},
     "output_type": "execute_result"
    }
   ],
   "source": [
    "deal"
   ]
  },
  {
   "cell_type": "code",
   "execution_count": 173,
   "id": "83fa3552-d0a0-469c-8fc0-439bf482d909",
   "metadata": {},
   "outputs": [],
   "source": [
    "leads_id = []\n",
    "for deal in data:\n",
    "    if deal['dealStage']['name'] == '1.3 DIAGNÓSTICO' and deal['person'] and deal['dealStatus']['name'] == 'Em andamento':\n",
    "        leads_id.append(deal['person']['id'])"
   ]
  },
  {
   "cell_type": "code",
   "execution_count": 177,
   "id": "d516785e-2423-4fbf-aa81-bb9489c9d79a",
   "metadata": {},
   "outputs": [
    {
     "data": {
      "text/plain": [
       "157"
      ]
     },
     "execution_count": 177,
     "metadata": {},
     "output_type": "execute_result"
    }
   ],
   "source": [
    "len(leads_id)"
   ]
  },
  {
   "cell_type": "code",
   "execution_count": 76,
   "id": "0af5ec0f-b130-42c6-bd50-8ecbfed9215f",
   "metadata": {},
   "outputs": [],
   "source": [
    "def agendor_request(url, headers = {\n",
    "    \"Authorization\": f\"Token {API_KEY}\",\n",
    "    \"Content-Type\": \"application/json\"\n",
    "}, params=None, wait_time = 10):\n",
    "    base_url = 'https://api.agendor.com.br/v3/'\n",
    "    full_url = base_url + url\n",
    "    while True:\n",
    "        response = requests.get(full_url, headers=headers, params=params)\n",
    "        if response.status_code == 200:\n",
    "            return response\n",
    "        elif response.status_code == 429:\n",
    "            print(f\"Erro 429: Muitas requisições. Aguardando {wait_time} segundos antes de tentar novamente...\")\n",
    "            time.sleep(wait_time)\n",
    "            wait_time *= 2  # Dobra o tempo de espera a cada falha\n",
    "        else:\n",
    "            return None"
   ]
  },
  {
   "cell_type": "code",
   "execution_count": 36,
   "id": "1fc0531c-3ec7-4549-991f-ce7dcb9dd67d",
   "metadata": {},
   "outputs": [],
   "source": [
    "URL = 'https://api.agendor.com.br/v3/people'\n",
    "\n",
    "# Função para realizar o scraping\n",
    "def fetch_data():\n",
    "    next_url = URL\n",
    "    params = {\"per_page\": 100}\n",
    "    all_json_deals_data = []\n",
    "    wait_time = 10  # Tempo inicial de espera em segundos\n",
    "\n",
    "    while next_url:\n",
    "        try:\n",
    "            response = requests.get(next_url, headers=headers, params=params)\n",
    "\n",
    "            if response.status_code == 200:\n",
    "                json_deal_data = response.json().get('data', [])\n",
    "                all_json_deals_data.extend(json_deal_data)\n",
    "                links = response.json().get('links', {})\n",
    "                next_url = links.get('next', False)\n",
    "                wait_time = 10  # Reseta o tempo de espera se der certo\n",
    "\n",
    "            elif response.status_code == 429:\n",
    "                print(f\"Erro 429: Muitas requisições. Aguardando {wait_time} segundos antes de tentar novamente...\")\n",
    "                time.sleep(wait_time)\n",
    "                wait_time *= 2  # Dobra o tempo de espera a cada falha\n",
    "\n",
    "            else:\n",
    "                print(f\"Erro {response.status_code}: {response.text}\")\n",
    "                break  # Sai do loop se for outro erro\n",
    "\n",
    "        except requests.exceptions.JSONDecodeError:\n",
    "            print(\"Erro ao decodificar JSON. Resposta vazia ou malformada.\")\n",
    "            break\n",
    "        except requests.exceptions.RequestException as e:\n",
    "            print(f\"Erro na requisição: {e}\")\n",
    "            break\n",
    "\n",
    "    return all_json_deals_data"
   ]
  },
  {
   "cell_type": "code",
   "execution_count": 38,
   "id": "33c42f64-969e-4a55-9640-41869b470051",
   "metadata": {},
   "outputs": [],
   "source": [
    "person_data = fetch_data()"
   ]
  },
  {
   "cell_type": "code",
   "execution_count": 179,
   "id": "91cfbaea-2953-44c5-8549-073f3d924003",
   "metadata": {},
   "outputs": [],
   "source": [
    "leads_data = []\n",
    "for person in person_data:\n",
    "    if person['id'] in leads_id:\n",
    "        leads_data.append(person)"
   ]
  },
  {
   "cell_type": "code",
   "execution_count": 181,
   "id": "3843bd1b-a8b7-4e35-ac89-763a2a17fdc5",
   "metadata": {},
   "outputs": [],
   "source": [
    "import re"
   ]
  },
  {
   "cell_type": "code",
   "execution_count": 183,
   "id": "c1235731-ca61-4c07-b20b-e78f1aa1837a",
   "metadata": {},
   "outputs": [],
   "source": [
    "bad_leads = []\n",
    "good_leads = []\n",
    "for lead_data in leads_data:\n",
    "    number = lead_data['contact']['work']\n",
    "    if number:\n",
    "        ddd = re.search(r'\\((\\d+)\\)', number).group(1)\n",
    "        ddd = int(ddd)\n",
    "        if ddd < 30 or ddd > 40:\n",
    "            bad_leads.append(lead_data)\n",
    "        else: \n",
    "            good_leads.append(lead_data)\n",
    "    else:\n",
    "        bad_leads.append(lead_data)\n",
    "        "
   ]
  },
  {
   "cell_type": "code",
   "execution_count": 189,
   "id": "9e7a5d18-64e0-4b63-892a-c2f5ef039b57",
   "metadata": {},
   "outputs": [
    {
     "data": {
      "text/plain": [
       "80"
      ]
     },
     "execution_count": 189,
     "metadata": {},
     "output_type": "execute_result"
    }
   ],
   "source": [
    "for person_id in bad_leads:\n",
    "    https://api.agendor.com.br/v3/people/{id}"
   ]
  },
  {
   "cell_type": "code",
   "execution_count": 84,
   "id": "1398c522-012e-4337-beb7-6852724b2a95",
   "metadata": {},
   "outputs": [],
   "source": [
    "good_leads_id = [good_lead['id'] for good_lead in good_leads]"
   ]
  },
  {
   "cell_type": "code",
   "execution_count": 86,
   "id": "aebbd77d-418f-42f9-bd9d-0c02ed446a9e",
   "metadata": {},
   "outputs": [
    {
     "ename": "NameError",
     "evalue": "name 'bad_leads_id' is not defined",
     "output_type": "error",
     "traceback": [
      "\u001b[1;31m---------------------------------------------------------------------------\u001b[0m",
      "\u001b[1;31mNameError\u001b[0m                                 Traceback (most recent call last)",
      "Cell \u001b[1;32mIn[86], line 2\u001b[0m\n\u001b[0;32m      1\u001b[0m \u001b[38;5;28mlen\u001b[39m(good_leads_id)\n\u001b[1;32m----> 2\u001b[0m \u001b[38;5;28mlen\u001b[39m(bad_leads_id)\n",
      "\u001b[1;31mNameError\u001b[0m: name 'bad_leads_id' is not defined"
     ]
    }
   ],
   "source": [
    "len(good_leads_id)\n",
    "len(bad_leads_id)"
   ]
  },
  {
   "cell_type": "code",
   "execution_count": 88,
   "id": "e557dc62-b894-477a-a70e-ea8f6e2308b1",
   "metadata": {},
   "outputs": [],
   "source": [
    "good_deal_ids = []\n",
    "for deal in data:\n",
    "    person = deal['person']\n",
    "    if person and deal['dealStage']['name'] == '1.3 DIAGNÓSTICO' and deal['dealStatus']['name'] == 'Em andamento':\n",
    "        if person['id'] in good_leads_id:\n",
    "            good_deal_ids.append(deal['id'])"
   ]
  },
  {
   "cell_type": "code",
   "execution_count": 90,
   "id": "4f6467e8-2d0a-4c75-b346-baf0837e317d",
   "metadata": {},
   "outputs": [],
   "source": [
    "bad_deals_id = []\n",
    "for deal in data:\n",
    "    if deal['dealStage']['name'] == '1.3 DIAGNÓSTICO' and deal['id'] not in good_deal_ids and deal['dealStatus']['name'] == 'Em andamento':\n",
    "        bad_deals_id.append(deal['id'])"
   ]
  },
  {
   "cell_type": "code",
   "execution_count": 98,
   "id": "898f959b-bac1-4943-b51b-716e4df422e2",
   "metadata": {},
   "outputs": [
    {
     "data": {
      "text/plain": [
       "157"
      ]
     },
     "execution_count": 98,
     "metadata": {},
     "output_type": "execute_result"
    }
   ],
   "source": [
    "len(good_deal_ids) + len(bad_deals_id)"
   ]
  },
  {
   "cell_type": "code",
   "execution_count": 213,
   "id": "625d5d32-e557-4c7b-a607-ca993266b061",
   "metadata": {},
   "outputs": [
    {
     "name": "stdout",
     "output_type": "stream",
     "text": [
      "Sucesso para 0\n",
      "Processado 1 de 119\n",
      "Sucesso para 1\n",
      "Processado 2 de 119\n",
      "Sucesso para 2\n",
      "Processado 3 de 119\n",
      "Sucesso para 3\n",
      "Processado 4 de 119\n",
      "Sucesso para 4\n",
      "Processado 5 de 119\n",
      "Sucesso para 5\n",
      "Processado 6 de 119\n",
      "Sucesso para 6\n",
      "Processado 7 de 119\n",
      "Sucesso para 7\n",
      "Processado 8 de 119\n",
      "Sucesso para 8\n",
      "Processado 9 de 119\n",
      "Sucesso para 9\n",
      "Processado 10 de 119\n",
      "Sucesso para 10\n",
      "Processado 11 de 119\n",
      "Sucesso para 11\n",
      "Processado 12 de 119\n",
      "Sucesso para 12\n",
      "Processado 13 de 119\n",
      "Sucesso para 13\n",
      "Processado 14 de 119\n",
      "Sucesso para 14\n",
      "Processado 15 de 119\n",
      "Sucesso para 15\n",
      "Processado 16 de 119\n",
      "Sucesso para 16\n",
      "Processado 17 de 119\n",
      "Sucesso para 17\n",
      "Processado 18 de 119\n",
      "Sucesso para 18\n",
      "Processado 19 de 119\n",
      "Sucesso para 19\n",
      "Processado 20 de 119\n",
      "Sucesso para 20\n",
      "Processado 21 de 119\n",
      "Sucesso para 21\n",
      "Processado 22 de 119\n",
      "Sucesso para 22\n",
      "Processado 23 de 119\n",
      "Sucesso para 23\n",
      "Processado 24 de 119\n",
      "Sucesso para 24\n",
      "Processado 25 de 119\n",
      "Sucesso para 25\n",
      "Processado 26 de 119\n",
      "Sucesso para 26\n",
      "Processado 27 de 119\n",
      "Sucesso para 27\n",
      "Processado 28 de 119\n",
      "Sucesso para 28\n",
      "Processado 29 de 119\n",
      "Sucesso para 29\n",
      "Processado 30 de 119\n",
      "Sucesso para 30\n",
      "Processado 31 de 119\n"
     ]
    }
   ],
   "source": [
    "import time\n",
    "payload = {\"dealStatusText\": \"lost\"}  # Atualizando para \"lost\"\n",
    "BASE_URL = \"https://api.agendor.com.br/v3\"\n",
    "\n",
    "i = 0\n",
    "for deal_id in bad_deals_id[88:]:\n",
    "    url = f\"{BASE_URL}/deals/{deal_id}/status\"\n",
    "    wait_time = 10  # Tempo de espera inicial\n",
    "\n",
    "    while True:\n",
    "        response = requests.put(url, headers=headers, json=payload)\n",
    "\n",
    "        if response.status_code == 200:\n",
    "            wait_time = 10  # Reseta o tempo de espera se der certo\n",
    "            print(f\"Sucesso para {i}\")  # Corrigido o uso de f-string\n",
    "            break\n",
    "            \n",
    "        elif response.status_code == 429:\n",
    "            print(f\"Erro 429: Muitas requisições. Aguardando {wait_time} segundos antes de tentar novamente...\")\n",
    "            time.sleep(wait_time)\n",
    "            wait_time *= 2  # Dobra o tempo de espera a cada falha\n",
    "        else:\n",
    "            print(f\"Erro inesperado para {i}: {response.status_code}\")\n",
    "            break  # Você pode optar por parar ou continuar com outro comportamento\n",
    "\n",
    "    i += 1\n",
    "    print(f\"Processado {i} de {len(bad_deals_id)}\")"
   ]
  },
  {
   "cell_type": "code",
   "execution_count": 201,
   "id": "6c8fc165-7e2b-43de-91e6-ae83cb1bfc00",
   "metadata": {},
   "outputs": [],
   "source": [
    "bad_leads_id = [bad_lead['id'] for bad_lead in bad_leads]"
   ]
  },
  {
   "cell_type": "code",
   "execution_count": 205,
   "id": "76493cf2-e4c8-454d-8be6-467dbcf0b78a",
   "metadata": {},
   "outputs": [
    {
     "data": {
      "text/plain": [
       "61"
      ]
     },
     "execution_count": 205,
     "metadata": {},
     "output_type": "execute_result"
    }
   ],
   "source": [
    "len(bad_leads_id)"
   ]
  },
  {
   "cell_type": "code",
   "execution_count": 209,
   "id": "c970e0fa-e5b8-4b4a-914b-8d7b1f50f69b",
   "metadata": {},
   "outputs": [
    {
     "name": "stdout",
     "output_type": "stream",
     "text": [
      "Sucesso para 0\n",
      "Processado 1 de 119\n",
      "Sucesso para 1\n",
      "Processado 2 de 119\n",
      "Sucesso para 2\n",
      "Processado 3 de 119\n",
      "Sucesso para 3\n",
      "Processado 4 de 119\n",
      "Sucesso para 4\n",
      "Processado 5 de 119\n",
      "Sucesso para 5\n",
      "Processado 6 de 119\n",
      "Sucesso para 6\n",
      "Processado 7 de 119\n",
      "Sucesso para 7\n",
      "Processado 8 de 119\n",
      "Sucesso para 8\n",
      "Processado 9 de 119\n",
      "Sucesso para 9\n",
      "Processado 10 de 119\n",
      "Sucesso para 10\n",
      "Processado 11 de 119\n",
      "Sucesso para 11\n",
      "Processado 12 de 119\n",
      "Sucesso para 12\n",
      "Processado 13 de 119\n",
      "Sucesso para 13\n",
      "Processado 14 de 119\n",
      "Sucesso para 14\n",
      "Processado 15 de 119\n",
      "Sucesso para 15\n",
      "Processado 16 de 119\n",
      "Sucesso para 16\n",
      "Processado 17 de 119\n",
      "Sucesso para 17\n",
      "Processado 18 de 119\n",
      "Sucesso para 18\n",
      "Processado 19 de 119\n",
      "Sucesso para 19\n",
      "Processado 20 de 119\n",
      "Sucesso para 20\n",
      "Processado 21 de 119\n",
      "Sucesso para 21\n",
      "Processado 22 de 119\n",
      "Sucesso para 22\n",
      "Processado 23 de 119\n",
      "Sucesso para 23\n",
      "Processado 24 de 119\n",
      "Sucesso para 24\n",
      "Processado 25 de 119\n",
      "Sucesso para 25\n",
      "Processado 26 de 119\n",
      "Sucesso para 26\n",
      "Processado 27 de 119\n",
      "Sucesso para 27\n",
      "Processado 28 de 119\n",
      "Sucesso para 28\n",
      "Processado 29 de 119\n",
      "Sucesso para 29\n",
      "Processado 30 de 119\n",
      "Sucesso para 30\n",
      "Processado 31 de 119\n",
      "Sucesso para 31\n",
      "Processado 32 de 119\n",
      "Sucesso para 32\n",
      "Processado 33 de 119\n",
      "Sucesso para 33\n",
      "Processado 34 de 119\n",
      "Sucesso para 34\n",
      "Processado 35 de 119\n",
      "Sucesso para 35\n",
      "Processado 36 de 119\n",
      "Sucesso para 36\n",
      "Processado 37 de 119\n",
      "Sucesso para 37\n",
      "Processado 38 de 119\n",
      "Sucesso para 38\n",
      "Processado 39 de 119\n",
      "Sucesso para 39\n",
      "Processado 40 de 119\n",
      "Sucesso para 40\n",
      "Processado 41 de 119\n",
      "Sucesso para 41\n",
      "Processado 42 de 119\n",
      "Sucesso para 42\n",
      "Processado 43 de 119\n",
      "Sucesso para 43\n",
      "Processado 44 de 119\n",
      "Sucesso para 44\n",
      "Processado 45 de 119\n",
      "Sucesso para 45\n",
      "Processado 46 de 119\n",
      "Sucesso para 46\n",
      "Processado 47 de 119\n",
      "Sucesso para 47\n",
      "Processado 48 de 119\n",
      "Sucesso para 48\n",
      "Processado 49 de 119\n",
      "Sucesso para 49\n",
      "Processado 50 de 119\n",
      "Sucesso para 50\n",
      "Processado 51 de 119\n",
      "Sucesso para 51\n",
      "Processado 52 de 119\n",
      "Sucesso para 52\n",
      "Processado 53 de 119\n",
      "Sucesso para 53\n",
      "Processado 54 de 119\n",
      "Sucesso para 54\n",
      "Processado 55 de 119\n",
      "Sucesso para 55\n",
      "Processado 56 de 119\n",
      "Sucesso para 56\n",
      "Processado 57 de 119\n",
      "Sucesso para 57\n",
      "Processado 58 de 119\n",
      "Sucesso para 58\n",
      "Processado 59 de 119\n",
      "Sucesso para 59\n",
      "Processado 60 de 119\n",
      "Sucesso para 60\n",
      "Processado 61 de 119\n"
     ]
    }
   ],
   "source": [
    "#payload = {\"dealStatusText\": \"lost\"}  # Atualizando para \"lost\"\n",
    "BASE_URL = \"https://api.agendor.com.br/v3\"\n",
    "\n",
    "i = 0\n",
    "for lead_id in bad_leads_id:\n",
    "    url = f\"{BASE_URL}/people/{lead_id}\"\n",
    "    wait_time = 10  # Tempo de espera inicial\n",
    "\n",
    "    while True:\n",
    "        response = requests.delete(url, headers=headers)\n",
    "\n",
    "        if response.status_code == 200:\n",
    "            wait_time = 10  # Reseta o tempo de espera se der certo\n",
    "            print(f\"Sucesso para {i}\")  # Corrigido o uso de f-string\n",
    "            break\n",
    "            \n",
    "        elif response.status_code == 429:\n",
    "            print(f\"Erro 429: Muitas requisições. Aguardando {wait_time} segundos antes de tentar novamente...\")\n",
    "            time.sleep(wait_time)\n",
    "            wait_time *= 2  # Dobra o tempo de espera a cada falha\n",
    "        else:\n",
    "            print(f\"Erro inesperado para {i}: {response.status_code}\")\n",
    "            break  # Você pode optar por parar ou continuar com outro comportamento\n",
    "\n",
    "    i += 1\n",
    "    print(f\"Processado {i} de {len(bad_leads_id)}\")"
   ]
  },
  {
   "cell_type": "code",
   "execution_count": 195,
   "id": "cf42d657-3f7d-4518-bc34-93f263f6e6dd",
   "metadata": {},
   "outputs": [
    {
     "ename": "SyntaxError",
     "evalue": "invalid syntax (2214764233.py, line 1)",
     "output_type": "error",
     "traceback": [
      "\u001b[1;36m  Cell \u001b[1;32mIn[195], line 1\u001b[1;36m\u001b[0m\n\u001b[1;33m    requests.del\u001b[0m\n\u001b[1;37m             ^\u001b[0m\n\u001b[1;31mSyntaxError\u001b[0m\u001b[1;31m:\u001b[0m invalid syntax\n"
     ]
    }
   ],
   "source": [
    "requests.del"
   ]
  },
  {
   "cell_type": "code",
   "execution_count": 143,
   "id": "0f08bbae-8b49-4d46-802b-f5efe8f3534c",
   "metadata": {},
   "outputs": [
    {
     "data": {
      "text/plain": [
       "{'errors': ['Title There can only be one deal with this title for this organization/person']}"
      ]
     },
     "execution_count": 143,
     "metadata": {},
     "output_type": "execute_result"
    }
   ],
   "source": [
    "deal_id = bad_deals_id[49]\n",
    "url = f\"{BASE_URL}/deals/{deal_id}/status\"\n",
    "response = requests.put(url, headers=headers, json=payload)\n",
    "response.json()"
   ]
  },
  {
   "cell_type": "code",
   "execution_count": 153,
   "id": "9ab6d485-8d55-423e-a728-1f3b58bd71bd",
   "metadata": {},
   "outputs": [
    {
     "data": {
      "text/plain": [
       "196"
      ]
     },
     "execution_count": 153,
     "metadata": {},
     "output_type": "execute_result"
    }
   ],
   "source": [
    "len(bad_leads)"
   ]
  },
  {
   "cell_type": "code",
   "execution_count": 139,
   "id": "c0ba563b-2db6-4bd9-b97b-b02231b57cba",
   "metadata": {},
   "outputs": [
    {
     "data": {
      "text/plain": [
       "119"
      ]
     },
     "execution_count": 139,
     "metadata": {},
     "output_type": "execute_result"
    }
   ],
   "source": [
    "len(bad_deals_id)"
   ]
  },
  {
   "cell_type": "code",
   "execution_count": null,
   "id": "3e666b34-06a7-449b-b968-0b3327abddc9",
   "metadata": {},
   "outputs": [],
   "source": []
  }
 ],
 "metadata": {
  "kernelspec": {
   "display_name": "Python [conda env:base] *",
   "language": "python",
   "name": "conda-base-py"
  },
  "language_info": {
   "codemirror_mode": {
    "name": "ipython",
    "version": 3
   },
   "file_extension": ".py",
   "mimetype": "text/x-python",
   "name": "python",
   "nbconvert_exporter": "python",
   "pygments_lexer": "ipython3",
   "version": "3.12.7"
  }
 },
 "nbformat": 4,
 "nbformat_minor": 5
}
